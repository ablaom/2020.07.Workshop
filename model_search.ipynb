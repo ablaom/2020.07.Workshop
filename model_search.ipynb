{
 "cells": [
  {
   "outputs": [],
   "cell_type": "code",
   "source": [
    "using MLJ\n",
    "\n",
    "models()\n",
    "\n",
    "using RDatasets\n",
    "iris = dataset(\"datasets\", \"iris\"); # a DataFrame\n",
    "first(iris, 3)\n",
    "\n",
    "task = supervised(data=iris,\n",
    "                  target=:Species,\n",
    "                  is_probabilistic=true)\n",
    "\n",
    "models(task)"
   ],
   "metadata": {},
   "execution_count": null
  },
  {
   "outputs": [],
   "cell_type": "markdown",
   "source": [
    "*This notebook was generated using [Literate.jl](https://github.com/fredrikekre/Literate.jl).*"
   ],
   "metadata": {}
  }
 ],
 "nbformat_minor": 3,
 "metadata": {
  "language_info": {
   "file_extension": ".jl",
   "mimetype": "application/julia",
   "name": "julia",
   "version": "1.1.1"
  },
  "kernelspec": {
   "name": "julia-1.1",
   "display_name": "Julia 1.1.1",
   "language": "julia"
  }
 },
 "nbformat": 4
}
