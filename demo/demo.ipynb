{
 "cells": [
  {
   "cell_type": "code",
   "execution_count": 1,
   "metadata": {},
   "outputs": [
    {
     "name": "stdout",
     "output_type": "stream",
     "text": [
      "\u001b[32m\u001b[1m  Updating\u001b[22m\u001b[39m registry at `~/.julia/registries/General`\n",
      "\u001b[32m\u001b[1m  Updating\u001b[22m\u001b[39m git-repo `https://github.com/JuliaRegistries/General.git`\n",
      "\u001b[?25l\u001b[2K\u001b[?25h"
     ]
    }
   ],
   "source": [
    "using Pkg\n",
    "Pkg.activate(@__DIR__)\n",
    "Pkg.instantiate()"
   ]
  },
  {
   "cell_type": "code",
   "execution_count": 2,
   "metadata": {},
   "outputs": [
    {
     "name": "stderr",
     "output_type": "stream",
     "text": [
      "┌ Info: Loading model metadata\n",
      "└ @ MLJ /Users/anthony/.julia/packages/MLJ/tod7z/src/MLJ.jl:114\n"
     ]
    }
   ],
   "source": [
    "using MLJ"
   ]
  },
  {
   "cell_type": "markdown",
   "metadata": {},
   "source": [
    "## Getting some data:"
   ]
  },
  {
   "cell_type": "code",
   "execution_count": 3,
   "metadata": {},
   "outputs": [
    {
     "data": {
      "text/html": [
       "<table class=\"data-frame\"><thead><tr><th></th><th>SepalLength</th><th>SepalWidth</th><th>PetalLength</th><th>PetalWidth</th></tr><tr><th></th><th>Float64</th><th>Float64</th><th>Float64</th><th>Float64</th></tr></thead><tbody><p>4 rows × 4 columns</p><tr><th>1</th><td>7.2</td><td>3.2</td><td>6.0</td><td>1.8</td></tr><tr><th>2</th><td>5.0</td><td>3.5</td><td>1.3</td><td>0.3</td></tr><tr><th>3</th><td>5.0</td><td>3.5</td><td>1.6</td><td>0.6</td></tr><tr><th>4</th><td>5.7</td><td>2.9</td><td>4.2</td><td>1.3</td></tr></tbody></table>"
      ],
      "text/latex": [
       "\\begin{tabular}{r|cccc}\n",
       "\t& SepalLength & SepalWidth & PetalLength & PetalWidth\\\\\n",
       "\t\\hline\n",
       "\t& Float64 & Float64 & Float64 & Float64\\\\\n",
       "\t\\hline\n",
       "\t1 & 7.2 & 3.2 & 6.0 & 1.8 \\\\\n",
       "\t2 & 5.0 & 3.5 & 1.3 & 0.3 \\\\\n",
       "\t3 & 5.0 & 3.5 & 1.6 & 0.6 \\\\\n",
       "\t4 & 5.7 & 2.9 & 4.2 & 1.3 \\\\\n",
       "\\end{tabular}\n"
      ],
      "text/plain": [
       "4×4 DataFrame\n",
       "│ Row │ SepalLength │ SepalWidth │ PetalLength │ PetalWidth │\n",
       "│     │ \u001b[90mFloat64\u001b[39m     │ \u001b[90mFloat64\u001b[39m    │ \u001b[90mFloat64\u001b[39m     │ \u001b[90mFloat64\u001b[39m    │\n",
       "├─────┼─────────────┼────────────┼─────────────┼────────────┤\n",
       "│ 1   │ 7.2         │ 3.2        │ 6.0         │ 1.8        │\n",
       "│ 2   │ 5.0         │ 3.5        │ 1.3         │ 0.3        │\n",
       "│ 3   │ 5.0         │ 3.5        │ 1.6         │ 0.6        │\n",
       "│ 4   │ 5.7         │ 2.9        │ 4.2         │ 1.3        │"
      ]
     },
     "execution_count": 3,
     "metadata": {},
     "output_type": "execute_result"
    }
   ],
   "source": [
    "using RDatasets\n",
    "iris = dataset(\"datasets\", \"iris\"); # a DataFrame\n",
    "scrambled = shuffle(1:size(iris, 1))\n",
    "X = iris[scrambled, 1:4];\n",
    "y = iris[scrambled, 5];\n",
    "\n",
    "first(X, 4)"
   ]
  },
  {
   "cell_type": "code",
   "execution_count": 4,
   "metadata": {},
   "outputs": [
    {
     "data": {
      "text/plain": [
       "5-element CategoricalArray{String,1,UInt8}:\n",
       " \"virginica\" \n",
       " \"setosa\"    \n",
       " \"setosa\"    \n",
       " \"versicolor\"\n",
       " \"setosa\"    "
      ]
     },
     "execution_count": 4,
     "metadata": {},
     "output_type": "execute_result"
    }
   ],
   "source": [
    "y[1:5]"
   ]
  },
  {
   "cell_type": "markdown",
   "metadata": {},
   "source": [
    "## Basic fit and predict:"
   ]
  },
  {
   "cell_type": "code",
   "execution_count": 5,
   "metadata": {},
   "outputs": [
    {
     "name": "stdout",
     "output_type": "stream",
     "text": [
      "import MLJModels ✔\n",
      "import LIBSVM ✔\n",
      "import MLJModels.LIBSVM_.SVC ✔\n"
     ]
    },
    {
     "name": "stderr",
     "output_type": "stream",
     "text": [
      "┌ Info: Training \u001b[34mMachine{SVC} @ 1…12\u001b[39m.\n",
      "└ @ MLJ /Users/anthony/.julia/packages/MLJ/tod7z/src/machines.jl:140\n"
     ]
    },
    {
     "name": "stdout",
     "output_type": "stream",
     "text": [
      "*\n",
      "optimization finished, #iter = 33\n",
      "nu = 0.038907\n",
      "obj = -1.945147, rho = -0.167869\n",
      "nSV = 10, nBSV = 0\n",
      "*\n",
      "optimization finished, #iter = 48\n",
      "nu = 0.293514\n",
      "obj = -21.377494, rho = -0.144367\n",
      "nSV = 33, nBSV = 26\n",
      "*\n",
      "optimization finished, #iter = 35\n",
      "nu = 0.046521\n",
      "obj = -2.403410, rho = 0.039522\n",
      "nSV = 10, nBSV = 2\n",
      "Total nSV = 44\n"
     ]
    },
    {
     "data": {
      "text/plain": [
       "150-element Array{CategoricalString{UInt8},1}:\n",
       " \"virginica\" \n",
       " \"setosa\"    \n",
       " \"setosa\"    \n",
       " \"versicolor\"\n",
       " \"setosa\"    \n",
       " \"virginica\" \n",
       " \"versicolor\"\n",
       " \"versicolor\"\n",
       " \"virginica\" \n",
       " \"versicolor\"\n",
       " \"virginica\" \n",
       " \"virginica\" \n",
       " \"virginica\" \n",
       " ⋮           \n",
       " \"setosa\"    \n",
       " \"versicolor\"\n",
       " \"versicolor\"\n",
       " \"setosa\"    \n",
       " \"virginica\" \n",
       " \"virginica\" \n",
       " \"versicolor\"\n",
       " \"setosa\"    \n",
       " \"versicolor\"\n",
       " \"versicolor\"\n",
       " \"versicolor\"\n",
       " \"versicolor\""
      ]
     },
     "execution_count": 5,
     "metadata": {},
     "output_type": "execute_result"
    }
   ],
   "source": [
    "@load SVC()\n",
    "classifier_ = SVC()\n",
    "classifier = machine(classifier_, X, y)\n",
    "fit!(classifier)\n",
    "ŷ = predict(classifier, X) # or some Xnew"
   ]
  },
  {
   "cell_type": "markdown",
   "metadata": {},
   "source": [
    "## Evaluating the model:"
   ]
  },
  {
   "cell_type": "code",
   "execution_count": 6,
   "metadata": {},
   "outputs": [
    {
     "name": "stderr",
     "output_type": "stream",
     "text": [
      "┌ Info: Evaluating using a holdout set. \n",
      "│ fraction_train=0.8 \n",
      "│ shuffle=false \n",
      "│ measure=MLJ.misclassification_rate \n",
      "│ operation=StatsBase.predict \n",
      "│ Resampling from all rows. \n",
      "└ @ MLJ /Users/anthony/.julia/packages/MLJ/tod7z/src/resampling.jl:100\n"
     ]
    },
    {
     "name": "stdout",
     "output_type": "stream",
     "text": [
      "import MLJModels ✔\n",
      "import MultivariateStats ✔\n",
      "import MLJModels.MultivariateStats_.PCA ✔\n"
     ]
    },
    {
     "name": "stderr",
     "output_type": "stream",
     "text": [
      "┌ Info: Training \u001b[34mMachine{PCA} @ 1…98\u001b[39m.\n",
      "└ @ MLJ /Users/anthony/.julia/packages/MLJ/tod7z/src/machines.jl:140\n"
     ]
    },
    {
     "data": {
      "text/html": [
       "<table class=\"data-frame\"><thead><tr><th></th><th>x1</th><th>x2</th><th>x3</th></tr><tr><th></th><th>Float64</th><th>Float64</th><th>Float64</th></tr></thead><tbody><p>3 rows × 3 columns</p><tr><th>1</th><td>-2.61409</td><td>0.560901</td><td>0.205535</td></tr><tr><th>2</th><td>2.7701</td><td>0.263528</td><td>-0.0772477</td></tr><tr><th>3</th><td>2.40561</td><td>0.188871</td><td>-0.263868</td></tr></tbody></table>"
      ],
      "text/latex": [
       "\\begin{tabular}{r|ccc}\n",
       "\t& x1 & x2 & x3\\\\\n",
       "\t\\hline\n",
       "\t& Float64 & Float64 & Float64\\\\\n",
       "\t\\hline\n",
       "\t1 & -2.61409 & 0.560901 & 0.205535 \\\\\n",
       "\t2 & 2.7701 & 0.263528 & -0.0772477 \\\\\n",
       "\t3 & 2.40561 & 0.188871 & -0.263868 \\\\\n",
       "\\end{tabular}\n"
      ],
      "text/plain": [
       "3×3 DataFrame\n",
       "│ Row │ x1       │ x2       │ x3         │\n",
       "│     │ \u001b[90mFloat64\u001b[39m  │ \u001b[90mFloat64\u001b[39m  │ \u001b[90mFloat64\u001b[39m    │\n",
       "├─────┼──────────┼──────────┼────────────┤\n",
       "│ 1   │ -2.61409 │ 0.560901 │ 0.205535   │\n",
       "│ 2   │ 2.7701   │ 0.263528 │ -0.0772477 │\n",
       "│ 3   │ 2.40561  │ 0.188871 │ -0.263868  │"
      ]
     },
     "execution_count": 6,
     "metadata": {},
     "output_type": "execute_result"
    }
   ],
   "source": [
    "evaluate!(classifier,\n",
    "          resampling=Holdout(fraction_train=0.8),\n",
    "          measure=misclassification_rate)\n",
    "# ## Adding dimension reduction:\n",
    "@load PCA\n",
    "dim_reducer_ = PCA()\n",
    "dim_reducer = machine(dim_reducer_, X)\n",
    "fit!(dim_reducer)\n",
    "Xsmall = transform(dim_reducer, X);\n",
    "\n",
    "first(Xsmall, 3)"
   ]
  },
  {
   "cell_type": "code",
   "execution_count": 7,
   "metadata": {},
   "outputs": [
    {
     "name": "stdout",
     "output_type": "stream",
     "text": [
      "*\n",
      "optimization finished, #iter = 23\n",
      "nu = 0.038664\n",
      "obj = -1.933164, rho = -0.165650\n",
      "nSV = 8, nBSV = 0\n",
      "*\n",
      "optimization finished, #iter = 38\n",
      "nu = 0.293883\n",
      "obj = -21.597810, rho = -0.082448\n",
      "nSV = 34, nBSV = 26\n",
      "*\n",
      "optimization finished, #iter = 30\n",
      "nu = 0.045664\n",
      "obj = -2.380751, rho = 0.053250\n",
      "nSV = 9, nBSV = 2\n",
      "Total nSV = 45\n"
     ]
    },
    {
     "name": "stderr",
     "output_type": "stream",
     "text": [
      "┌ Info: Training \u001b[34mMachine{SVC} @ 1…52\u001b[39m.\n",
      "└ @ MLJ /Users/anthony/.julia/packages/MLJ/tod7z/src/machines.jl:140\n"
     ]
    },
    {
     "data": {
      "text/plain": [
       "150-element Array{CategoricalString{UInt8},1}:\n",
       " \"virginica\" \n",
       " \"setosa\"    \n",
       " \"setosa\"    \n",
       " \"versicolor\"\n",
       " \"setosa\"    \n",
       " \"virginica\" \n",
       " \"versicolor\"\n",
       " \"versicolor\"\n",
       " \"virginica\" \n",
       " \"versicolor\"\n",
       " \"virginica\" \n",
       " \"virginica\" \n",
       " \"virginica\" \n",
       " ⋮           \n",
       " \"setosa\"    \n",
       " \"versicolor\"\n",
       " \"versicolor\"\n",
       " \"setosa\"    \n",
       " \"virginica\" \n",
       " \"virginica\" \n",
       " \"versicolor\"\n",
       " \"setosa\"    \n",
       " \"versicolor\"\n",
       " \"versicolor\"\n",
       " \"versicolor\"\n",
       " \"versicolor\""
      ]
     },
     "execution_count": 7,
     "metadata": {},
     "output_type": "execute_result"
    }
   ],
   "source": [
    "classifier = machine(classifier_, Xsmall, y)\n",
    "fit!(classifier)\n",
    "ŷ = predict(classifier, Xsmall)"
   ]
  },
  {
   "cell_type": "markdown",
   "metadata": {},
   "source": [
    "## Building a composite model:"
   ]
  },
  {
   "cell_type": "markdown",
   "metadata": {},
   "source": [
    "### Method 1: Compact syntax (but not generalizable):"
   ]
  },
  {
   "cell_type": "markdown",
   "metadata": {},
   "source": [
    "(not implemented at time of talk)"
   ]
  },
  {
   "cell_type": "code",
   "execution_count": 8,
   "metadata": {},
   "outputs": [],
   "source": [
    "# composite_ = @pipeline dim_reducer_ classifier_\n",
    "\n",
    "# composite = machine(composite_, X, y)\n",
    "# evaluate!(composite, measure=misclassification_rate)"
   ]
  },
  {
   "cell_type": "markdown",
   "metadata": {},
   "source": [
    "### Method 2: Re-interpret unstreamlined code:"
   ]
  },
  {
   "cell_type": "code",
   "execution_count": 9,
   "metadata": {},
   "outputs": [
    {
     "data": {
      "text/plain": [
       "\u001b[34mNode @ 1…92\u001b[39m = predict(\u001b[0m\u001b[1m1…90\u001b[22m, transform(\u001b[0m\u001b[1m1…02\u001b[22m, \u001b[34m5…24\u001b[39m))"
      ]
     },
     "execution_count": 9,
     "metadata": {},
     "output_type": "execute_result"
    }
   ],
   "source": [
    "Xraw = X;\n",
    "yraw = y;\n",
    "\n",
    "X = source(Xraw)\n",
    "y = source(yraw)\n",
    "\n",
    "dim_reducer = machine(dim_reducer_, X)\n",
    "Xsmall = transform(dim_reducer, X)\n",
    "\n",
    "classifier = machine(classifier_, Xsmall, y)\n",
    "ŷ = predict(classifier, Xsmall)"
   ]
  },
  {
   "cell_type": "code",
   "execution_count": 10,
   "metadata": {},
   "outputs": [
    {
     "name": "stderr",
     "output_type": "stream",
     "text": [
      "┌ Info: Training \u001b[34mNodalMachine{PCA} @ 1…02\u001b[39m.\n",
      "└ @ MLJ /Users/anthony/.julia/packages/MLJ/tod7z/src/machines.jl:140\n",
      "┌ Info: Training \u001b[34mNodalMachine{SVC} @ 1…90\u001b[39m.\n",
      "└ @ MLJ /Users/anthony/.julia/packages/MLJ/tod7z/src/machines.jl:140\n"
     ]
    },
    {
     "name": "stdout",
     "output_type": "stream",
     "text": [
      "*\n",
      "optimization finished, #iter = 23\n",
      "nu = 0.038664\n",
      "obj = -1.933164, rho = -0.165650\n",
      "nSV = 8, nBSV = 0\n",
      "*\n",
      "optimization finished, #iter = 38\n",
      "nu = 0.293883\n",
      "obj = -21.597810, rho = -0.082448\n",
      "nSV = 34, nBSV = 26\n",
      "*\n",
      "optimization finished, #iter = 30\n",
      "nu = 0.045664\n",
      "obj = -2.380751, rho = 0.053250\n",
      "nSV = 9, nBSV = 2\n",
      "Total nSV = 45\n"
     ]
    },
    {
     "data": {
      "text/plain": [
       "\u001b[34mNode @ 1…92\u001b[39m = predict(\u001b[0m\u001b[1m1…90\u001b[22m, transform(\u001b[0m\u001b[1m1…02\u001b[22m, \u001b[34m5…24\u001b[39m))"
      ]
     },
     "execution_count": 10,
     "metadata": {},
     "output_type": "execute_result"
    }
   ],
   "source": [
    "fit!(ŷ)"
   ]
  },
  {
   "cell_type": "code",
   "execution_count": 11,
   "metadata": {},
   "outputs": [
    {
     "data": {
      "text/plain": [
       "2-element Array{CategoricalString{UInt8},1}:\n",
       " \"setosa\"    \n",
       " \"versicolor\""
      ]
     },
     "execution_count": 11,
     "metadata": {},
     "output_type": "execute_result"
    }
   ],
   "source": [
    "ŷ(rows=3:4)"
   ]
  },
  {
   "cell_type": "code",
   "execution_count": 12,
   "metadata": {},
   "outputs": [
    {
     "name": "stderr",
     "output_type": "stream",
     "text": [
      "┌ Info: Updating \u001b[34mNodalMachine{PCA} @ 1…02\u001b[39m.\n",
      "└ @ MLJ /Users/anthony/.julia/packages/MLJ/tod7z/src/machines.jl:152\n",
      "┌ Info: Training \u001b[34mNodalMachine{SVC} @ 1…90\u001b[39m.\n",
      "└ @ MLJ /Users/anthony/.julia/packages/MLJ/tod7z/src/machines.jl:140\n"
     ]
    },
    {
     "name": "stdout",
     "output_type": "stream",
     "text": [
      "*\n",
      "optimization finished, #iter = 13\n",
      "nu = 0.030533\n",
      "obj = -1.526884, rho = -0.270704\n",
      "nSV = 4, nBSV = 1\n",
      "*\n",
      "optimization finished, #iter = 20\n",
      "nu = 0.355841\n",
      "obj = -30.258034, rho = 0.019778\n",
      "nSV = 36, nBSV = 34\n",
      "*\n",
      "optimization finished, #iter = 8\n",
      "nu = 0.048815\n",
      "obj = -2.645552, rho = 0.204566\n",
      "nSV = 7, nBSV = 4\n",
      "Total nSV = 44\n"
     ]
    },
    {
     "data": {
      "text/plain": [
       "\u001b[34mNode @ 1…92\u001b[39m = predict(\u001b[0m\u001b[1m1…90\u001b[22m, transform(\u001b[0m\u001b[1m1…02\u001b[22m, \u001b[34m5…24\u001b[39m))"
      ]
     },
     "execution_count": 12,
     "metadata": {},
     "output_type": "execute_result"
    }
   ],
   "source": [
    "dim_reducer_.ncomp = 1  # maximum output dimension\n",
    "fit!(ŷ)"
   ]
  },
  {
   "cell_type": "code",
   "execution_count": 13,
   "metadata": {},
   "outputs": [
    {
     "data": {
      "text/plain": [
       "2-element Array{CategoricalString{UInt8},1}:\n",
       " \"setosa\"    \n",
       " \"versicolor\""
      ]
     },
     "execution_count": 13,
     "metadata": {},
     "output_type": "execute_result"
    }
   ],
   "source": [
    "ŷ(rows=3:4)"
   ]
  },
  {
   "cell_type": "markdown",
   "metadata": {},
   "source": [
    " Changing classifier hyperparameter does not retrigger retraining of\n",
    " upstream dimension reducer:"
   ]
  },
  {
   "cell_type": "code",
   "execution_count": 14,
   "metadata": {},
   "outputs": [
    {
     "name": "stdout",
     "output_type": "stream",
     "text": [
      "*\n",
      "optimization finished, #iter = 13\n",
      "nu = 0.033696\n",
      "obj = -1.838789, rho = -0.128178\n",
      "nSV = 5, nBSV = 2\n",
      "*\n",
      "optimization finished, #iter = 24\n",
      "nu = 0.429648\n",
      "obj = -35.588638, rho = -0.040530\n",
      "nSV = 44, nBSV = 42\n",
      "*\n",
      "optimization finished, #iter = 5\n",
      "nu = 0.080000\n",
      "obj = -4.676483, rho = -0.106043\n",
      "nSV = 8, nBSV = 8\n",
      "Total nSV = 53\n"
     ]
    },
    {
     "name": "stderr",
     "output_type": "stream",
     "text": [
      "┌ Info: Not retraining \u001b[34mNodalMachine{PCA} @ 1…02\u001b[39m.\n",
      "│  It appears up-to-date. Use force=true to force retraining.\n",
      "└ @ MLJ /Users/anthony/.julia/packages/MLJ/tod7z/src/machines.jl:146\n",
      "┌ Info: Updating \u001b[34mNodalMachine{SVC} @ 1…90\u001b[39m.\n",
      "└ @ MLJ /Users/anthony/.julia/packages/MLJ/tod7z/src/machines.jl:152\n"
     ]
    },
    {
     "data": {
      "text/plain": [
       "\u001b[34mNode @ 1…92\u001b[39m = predict(\u001b[0m\u001b[1m1…90\u001b[22m, transform(\u001b[0m\u001b[1m1…02\u001b[22m, \u001b[34m5…24\u001b[39m))"
      ]
     },
     "execution_count": 14,
     "metadata": {},
     "output_type": "execute_result"
    }
   ],
   "source": [
    "classifier_.gamma = 0.1\n",
    "fit!(ŷ)"
   ]
  },
  {
   "cell_type": "code",
   "execution_count": 15,
   "metadata": {},
   "outputs": [
    {
     "data": {
      "text/plain": [
       "2-element Array{CategoricalString{UInt8},1}:\n",
       " \"setosa\"    \n",
       " \"versicolor\""
      ]
     },
     "execution_count": 15,
     "metadata": {},
     "output_type": "execute_result"
    }
   ],
   "source": [
    "ŷ(rows=3:4)"
   ]
  },
  {
   "cell_type": "markdown",
   "metadata": {},
   "source": [
    "Predicting on new data (`Xraw` in `source(Xraw)` is substituted for `Xnew`):"
   ]
  },
  {
   "cell_type": "code",
   "execution_count": 16,
   "metadata": {},
   "outputs": [
    {
     "data": {
      "text/plain": [
       "2-element Array{CategoricalString{UInt8},1}:\n",
       " \"setosa\"\n",
       " \"setosa\""
      ]
     },
     "execution_count": 16,
     "metadata": {},
     "output_type": "execute_result"
    }
   ],
   "source": [
    "Xnew = (SepalLength = [4.0, 5.2],\n",
    "        SepalWidth = [3.2, 3.0],\n",
    "        PetalLength = [1.2, 1.5],\n",
    "        PetalWidth = [0.1, 0.4],)\n",
    "ŷ(Xnew)"
   ]
  },
  {
   "cell_type": "markdown",
   "metadata": {},
   "source": [
    "#### Exporting network as stand-alone reusable model:"
   ]
  },
  {
   "cell_type": "code",
   "execution_count": 17,
   "metadata": {},
   "outputs": [
    {
     "data": {
      "text/plain": [
       "(pca = (ncomp = 1,\n",
       "        method = :auto,\n",
       "        pratio = 0.99,\n",
       "        mean = nothing,),\n",
       " svc = (kernel = RadialBasis::KERNEL = 2,\n",
       "        gamma = 0.1,\n",
       "        weights = nothing,\n",
       "        cost = 1.0,\n",
       "        degree = 3,\n",
       "        coef0 = 0.0,\n",
       "        tolerance = 0.001,\n",
       "        shrinking = true,\n",
       "        probability = false,),)"
      ]
     },
     "execution_count": 17,
     "metadata": {},
     "output_type": "execute_result"
    }
   ],
   "source": [
    "composite_ = @from_network Composite(pca=dim_reducer_, svc=classifier_) <= (X, y, ŷ)\n",
    "params(composite_)"
   ]
  },
  {
   "cell_type": "code",
   "execution_count": 18,
   "metadata": {},
   "outputs": [
    {
     "name": "stderr",
     "output_type": "stream",
     "text": [
      "┌ Info: Evaluating using cross-validation. \n",
      "│ nfolds=6. \n",
      "│ shuffle=false \n",
      "│ measure=MLJ.misclassification_rate \n",
      "│ operation=StatsBase.predict \n",
      "│ Resampling from all rows. \n",
      "└ @ MLJ /Users/anthony/.julia/packages/MLJ/tod7z/src/resampling.jl:151\n",
      "\u001b[33mCross-validating: 100%[=========================] Time: 0:00:02\u001b[39m\n"
     ]
    },
    {
     "data": {
      "text/plain": [
       "6-element Array{Float64,1}:\n",
       " 0.08\n",
       " 0.08\n",
       " 0.0 \n",
       " 0.12\n",
       " 0.08\n",
       " 0.04"
      ]
     },
     "execution_count": 18,
     "metadata": {},
     "output_type": "execute_result"
    }
   ],
   "source": [
    "composite = machine(composite_, Xraw, yraw)\n",
    "evaluate!(composite, measure=misclassification_rate)"
   ]
  },
  {
   "cell_type": "markdown",
   "metadata": {},
   "source": [
    "## Evaluating a \"self-tuning\" random forest (nested resampling):"
   ]
  },
  {
   "cell_type": "code",
   "execution_count": 19,
   "metadata": {},
   "outputs": [
    {
     "data": {
      "text/plain": [
       "Dict{Any,Any} with 6 entries:\n",
       "  \"MultivariateStats\" => Any[\"RidgeRegressor\"]\n",
       "  \"MLJ\"               => Any[\"MLJ.Constant.DeterministicConstantRegressor\", \"ML…\n",
       "  \"DecisionTree\"      => Any[\"DecisionTreeRegressor\"]\n",
       "  \"ScikitLearn\"       => Any[\"SVMLRegressor\", \"ElasticNet\", \"ElasticNetCV\", \"SV…\n",
       "  \"LIBSVM\"            => Any[\"EpsilonSVR\", \"NuSVR\"]\n",
       "  \"XGBoost\"           => Any[\"XGBoostRegressor\"]"
      ]
     },
     "execution_count": 19,
     "metadata": {},
     "output_type": "execute_result"
    }
   ],
   "source": [
    "task = load_boston()\n",
    "models(task)"
   ]
  },
  {
   "cell_type": "markdown",
   "metadata": {},
   "source": [
    "### Evaluating a single tree:"
   ]
  },
  {
   "cell_type": "code",
   "execution_count": 20,
   "metadata": {},
   "outputs": [
    {
     "name": "stdout",
     "output_type": "stream",
     "text": [
      "import MLJModels ✔\n",
      "import DecisionTree ✔\n",
      "import MLJModels.DecisionTree_.DecisionTreeRegressor ✔\n"
     ]
    },
    {
     "name": "stderr",
     "output_type": "stream",
     "text": [
      "┌ Info: Evaluating using a holdout set. \n",
      "│ fraction_train=0.7 \n",
      "│ shuffle=false \n",
      "│ measure=Function[rms, mav] \n",
      "│ operation=StatsBase.predict \n",
      "│ Resampling from all rows. \n",
      "└ @ MLJ /Users/anthony/.julia/packages/MLJ/tod7z/src/resampling.jl:100\n"
     ]
    },
    {
     "data": {
      "text/plain": [
       "(MLJ.rms = 8.795939100833767,\n",
       " MLJ.mav = 5.785953164160401,)"
      ]
     },
     "execution_count": 20,
     "metadata": {},
     "output_type": "execute_result"
    }
   ],
   "source": [
    "@load DecisionTreeRegressor # load code\n",
    "\n",
    "tree_ = DecisionTreeRegressor(n_subfeatures=3)\n",
    "tree = machine(tree_, task)\n",
    "evaluate!(tree,\n",
    "          resampling=Holdout(fraction_train=0.7),\n",
    "          measure=[rms, mav])"
   ]
  },
  {
   "cell_type": "markdown",
   "metadata": {},
   "source": [
    "### Use ensembling wrapper to create a random forest:"
   ]
  },
  {
   "cell_type": "code",
   "execution_count": 21,
   "metadata": {},
   "outputs": [
    {
     "data": {
      "text/plain": [
       "MLJ.DeterministicEnsembleModel(atom = \u001b[34mDecisionTreeRegressor @ 7…75\u001b[39m,\n",
       "                               weights = Float64[],\n",
       "                               bagging_fraction = 0.8,\n",
       "                               rng = MersenneTwister(UInt32[0x08804db9, 0xfc38831f, 0xd5683001, 0x444075ec]),\n",
       "                               n = 10,\n",
       "                               parallel = true,\n",
       "                               out_of_bag_measure = Any[],)\u001b[34m @ 9…74\u001b[39m"
      ]
     },
     "execution_count": 21,
     "metadata": {},
     "output_type": "execute_result"
    }
   ],
   "source": [
    "forest_ = EnsembleModel(atom=tree_, n=10)"
   ]
  },
  {
   "cell_type": "markdown",
   "metadata": {},
   "source": [
    "### Wrapping in a tuning strategy creates a \"self_tuning\" random forest:"
   ]
  },
  {
   "cell_type": "code",
   "execution_count": 22,
   "metadata": {},
   "outputs": [
    {
     "data": {
      "text/plain": [
       "MLJ.DeterministicTunedModel(model = \u001b[34mDeterministicEnsembleModel{DecisionTreeRegressor} @ 9…74\u001b[39m,\n",
       "                            tuning = \u001b[34mGrid @ 2…87\u001b[39m,\n",
       "                            resampling = \u001b[34mCV @ 1…01\u001b[39m,\n",
       "                            measure = MLJ.rms,\n",
       "                            operation = StatsBase.predict,\n",
       "                            ranges = MLJ.NumericRange{T,Symbol} where T[\u001b[34mNumericRange @ 1…81\u001b[39m, \u001b[34mNumericRange @ 1…80\u001b[39m],\n",
       "                            minimize = true,\n",
       "                            full_report = true,\n",
       "                            train_best = true,)\u001b[34m @ 6…25\u001b[39m"
      ]
     },
     "execution_count": 22,
     "metadata": {},
     "output_type": "execute_result"
    }
   ],
   "source": [
    "r1 = range(forest_, :bagging_fraction, lower=0.4, upper=1.0);\n",
    "r2 = range(forest_, :(atom.n_subfeatures), lower=1, upper=12)\n",
    "\n",
    "self_tuning_forest_ = TunedModel(model=forest_,\n",
    "                          tuning=Grid(),\n",
    "                          resampling=CV(),\n",
    "                          ranges=[r1,r2],\n",
    "                          measure=rms)"
   ]
  },
  {
   "cell_type": "markdown",
   "metadata": {},
   "source": [
    "### Evaluate the self_tuning_forest (nested resampling):"
   ]
  },
  {
   "cell_type": "code",
   "execution_count": 23,
   "metadata": {},
   "outputs": [
    {
     "name": "stderr",
     "output_type": "stream",
     "text": [
      "┌ Info: Evaluating using cross-validation. \n",
      "│ nfolds=6. \n",
      "│ shuffle=false \n",
      "│ measure=Function[rms, rmslp1] \n",
      "│ operation=StatsBase.predict \n",
      "│ Resampling from all rows. \n",
      "└ @ MLJ /Users/anthony/.julia/packages/MLJ/tod7z/src/resampling.jl:151\n",
      "\u001b[33mCross-validating: 100%[=========================] Time: 0:00:18\u001b[39m\n"
     ]
    },
    {
     "data": {
      "text/plain": [
       "(MLJ.rms = [2.91827, 3.40544, 4.60971, 4.54709, 8.12081, 3.79819],\n",
       " MLJ.rmslp1 = [0.148546, 0.119118, 0.148812, 0.134863, 0.345141, 0.221093],)"
      ]
     },
     "execution_count": 23,
     "metadata": {},
     "output_type": "execute_result"
    }
   ],
   "source": [
    "self_tuning_forest = machine(self_tuning_forest_, task)\n",
    "\n",
    "evaluate!(self_tuning_forest,\n",
    "          resampling=CV(),\n",
    "          measure=[rms,rmslp1])"
   ]
  }
 ],
 "metadata": {
  "kernelspec": {
   "display_name": "Julia 1.1.0",
   "language": "julia",
   "name": "julia-1.1"
  },
  "language_info": {
   "file_extension": ".jl",
   "mimetype": "application/julia",
   "name": "julia",
   "version": "1.1.1"
  }
 },
 "nbformat": 4,
 "nbformat_minor": 3
}
