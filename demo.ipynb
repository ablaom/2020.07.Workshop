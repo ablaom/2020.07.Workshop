{
 "cells": [
  {
   "cell_type": "code",
   "execution_count": 1,
   "metadata": {},
   "outputs": [
    {
     "name": "stderr",
     "output_type": "stream",
     "text": [
      "┌ Info: Recompiling stale cache file /Users/anthony/.julia/compiled/v1.1/MLJ/rAU56.ji for MLJ [add582a8-e3ab-11e8-2d5e-e98b27df1bc7]\n",
      "└ @ Base loading.jl:1184\n",
      "┌ Info: Loading model metadata\n",
      "└ @ MLJ /Users/anthony/Dropbox/Julia7/MLJ/MLJ/src/MLJ.jl:114\n"
     ]
    },
    {
     "data": {
      "text/plain": [
       "MersenneTwister(UInt32[0x000004d2])"
      ]
     },
     "execution_count": 1,
     "metadata": {},
     "output_type": "execute_result"
    }
   ],
   "source": [
    "using MLJ\n",
    "MLJ.Random.seed!(1234)"
   ]
  },
  {
   "cell_type": "markdown",
   "metadata": {},
   "source": [
    "## Getting some data:"
   ]
  },
  {
   "cell_type": "code",
   "execution_count": 2,
   "metadata": {},
   "outputs": [
    {
     "name": "stderr",
     "output_type": "stream",
     "text": [
      "┌ Info: Recompiling stale cache file /Users/anthony/.julia/compiled/v1.1/RDatasets/JyIbx.ji for RDatasets [ce6b1742-4840-55fa-b093-852dadbb1d8b]\n",
      "└ @ Base loading.jl:1184\n"
     ]
    },
    {
     "data": {
      "text/html": [
       "<table class=\"data-frame\"><thead><tr><th></th><th>SepalLength</th><th>SepalWidth</th><th>PetalLength</th><th>PetalWidth</th></tr><tr><th></th><th>Float64</th><th>Float64</th><th>Float64</th><th>Float64</th></tr></thead><tbody><p>4 rows × 4 columns</p><tr><th>1</th><td>7.9</td><td>3.8</td><td>6.4</td><td>2.0</td></tr><tr><th>2</th><td>6.4</td><td>3.1</td><td>5.5</td><td>1.8</td></tr><tr><th>3</th><td>5.4</td><td>3.7</td><td>1.5</td><td>0.2</td></tr><tr><th>4</th><td>6.3</td><td>3.3</td><td>6.0</td><td>2.5</td></tr></tbody></table>"
      ],
      "text/latex": [
       "\\begin{tabular}{r|cccc}\n",
       "\t& SepalLength & SepalWidth & PetalLength & PetalWidth\\\\\n",
       "\t\\hline\n",
       "\t& Float64 & Float64 & Float64 & Float64\\\\\n",
       "\t\\hline\n",
       "\t1 & 7.9 & 3.8 & 6.4 & 2.0 \\\\\n",
       "\t2 & 6.4 & 3.1 & 5.5 & 1.8 \\\\\n",
       "\t3 & 5.4 & 3.7 & 1.5 & 0.2 \\\\\n",
       "\t4 & 6.3 & 3.3 & 6.0 & 2.5 \\\\\n",
       "\\end{tabular}\n"
      ],
      "text/plain": [
       "4×4 DataFrame\n",
       "│ Row │ SepalLength │ SepalWidth │ PetalLength │ PetalWidth │\n",
       "│     │ \u001b[90mFloat64\u001b[39m     │ \u001b[90mFloat64\u001b[39m    │ \u001b[90mFloat64\u001b[39m     │ \u001b[90mFloat64\u001b[39m    │\n",
       "├─────┼─────────────┼────────────┼─────────────┼────────────┤\n",
       "│ 1   │ 7.9         │ 3.8        │ 6.4         │ 2.0        │\n",
       "│ 2   │ 6.4         │ 3.1        │ 5.5         │ 1.8        │\n",
       "│ 3   │ 5.4         │ 3.7        │ 1.5         │ 0.2        │\n",
       "│ 4   │ 6.3         │ 3.3        │ 6.0         │ 2.5        │"
      ]
     },
     "execution_count": 2,
     "metadata": {},
     "output_type": "execute_result"
    }
   ],
   "source": [
    "using RDatasets\n",
    "iris = dataset(\"datasets\", \"iris\"); # a DataFrame\n",
    "scrambled = shuffle(1:size(iris, 1))\n",
    "X = iris[scrambled, 1:4];\n",
    "y = iris[scrambled, 5];\n",
    "\n",
    "first(X, 4)"
   ]
  },
  {
   "cell_type": "code",
   "execution_count": 3,
   "metadata": {},
   "outputs": [
    {
     "data": {
      "text/plain": [
       "5-element CategoricalArray{String,1,UInt8}:\n",
       " \"virginica\" \n",
       " \"virginica\" \n",
       " \"setosa\"    \n",
       " \"virginica\" \n",
       " \"versicolor\""
      ]
     },
     "execution_count": 3,
     "metadata": {},
     "output_type": "execute_result"
    }
   ],
   "source": [
    "y[1:5]"
   ]
  },
  {
   "cell_type": "markdown",
   "metadata": {},
   "source": [
    "## Basic fit and predict:"
   ]
  },
  {
   "cell_type": "code",
   "execution_count": 4,
   "metadata": {},
   "outputs": [
    {
     "name": "stdout",
     "output_type": "stream",
     "text": [
      "import MLJModels "
     ]
    },
    {
     "name": "stderr",
     "output_type": "stream",
     "text": [
      "┌ Info: Recompiling stale cache file /Users/anthony/.julia/compiled/v1.1/MLJModels/0nkqq.ji for MLJModels [d491faf4-2d78-11e9-2867-c94bc002c0b7]\n",
      "└ @ Base loading.jl:1184\n"
     ]
    },
    {
     "name": "stdout",
     "output_type": "stream",
     "text": [
      "✔\n",
      "import LIBSVM "
     ]
    },
    {
     "name": "stderr",
     "output_type": "stream",
     "text": [
      "┌ Info: Recompiling stale cache file /Users/anthony/.julia/compiled/v1.1/LIBSVM/3eWAI.ji for LIBSVM [b1bec4e5-fd48-53fe-b0cb-9723c09d164b]\n",
      "└ @ Base loading.jl:1184\n"
     ]
    },
    {
     "name": "stdout",
     "output_type": "stream",
     "text": [
      "✔\n",
      "import MLJModels.LIBSVM_.SVC ✔\n"
     ]
    },
    {
     "name": "stderr",
     "output_type": "stream",
     "text": [
      "┌ Info: Training \u001b[34mMachine{SVC} @ 1…62\u001b[39m.\n",
      "└ @ MLJ /Users/anthony/Dropbox/Julia7/MLJ/MLJ/src/machines.jl:140\n"
     ]
    },
    {
     "name": "stdout",
     "output_type": "stream",
     "text": [
      "*\n",
      "optimization finished, #iter = 30\n",
      "nu = 0.038907\n",
      "obj = -1.945147, rho = -0.167873\n",
      "nSV = 10, nBSV = 0\n",
      "*\n",
      "optimization finished, #iter = 40\n",
      "nu = 0.293535\n",
      "obj = -21.377490, rho = -0.144562\n",
      "nSV = 33, nBSV = 26\n",
      "*\n",
      "optimization finished, #iter = 40\n",
      "nu = 0.046518\n",
      "obj = -2.403413, rho = 0.039689\n",
      "nSV = 11, nBSV = 2\n",
      "Total nSV = 45\n"
     ]
    },
    {
     "data": {
      "text/plain": [
       "150-element Array{CategoricalString{UInt8},1}:\n",
       " \"virginica\" \n",
       " \"virginica\" \n",
       " \"setosa\"    \n",
       " \"virginica\" \n",
       " \"versicolor\"\n",
       " \"setosa\"    \n",
       " \"setosa\"    \n",
       " \"virginica\" \n",
       " \"virginica\" \n",
       " \"setosa\"    \n",
       " \"setosa\"    \n",
       " \"versicolor\"\n",
       " \"versicolor\"\n",
       " ⋮           \n",
       " \"virginica\" \n",
       " \"versicolor\"\n",
       " \"virginica\" \n",
       " \"virginica\" \n",
       " \"versicolor\"\n",
       " \"versicolor\"\n",
       " \"versicolor\"\n",
       " \"virginica\" \n",
       " \"virginica\" \n",
       " \"virginica\" \n",
       " \"virginica\" \n",
       " \"versicolor\""
      ]
     },
     "execution_count": 4,
     "metadata": {},
     "output_type": "execute_result"
    }
   ],
   "source": [
    "@load SVC()\n",
    "classifier_ = SVC()\n",
    "classifier = machine(classifier_, X, y)\n",
    "fit!(classifier)\n",
    "ŷ = predict(classifier, X) # or some Xnew"
   ]
  },
  {
   "cell_type": "markdown",
   "metadata": {},
   "source": [
    "## Evaluating the model:"
   ]
  },
  {
   "cell_type": "code",
   "execution_count": 5,
   "metadata": {},
   "outputs": [
    {
     "name": "stderr",
     "output_type": "stream",
     "text": [
      "┌ Info: Evaluating using a holdout set. \n",
      "│ fraction_train=0.8 \n",
      "│ shuffle=false \n",
      "│ measure=MLJ.misclassification_rate \n",
      "│ operation=StatsBase.predict \n",
      "│ Resampling from all rows. \n",
      "└ @ MLJ /Users/anthony/Dropbox/Julia7/MLJ/MLJ/src/resampling.jl:100\n"
     ]
    },
    {
     "name": "stdout",
     "output_type": "stream",
     "text": [
      "import MLJModels ✔\n",
      "import MultivariateStats "
     ]
    },
    {
     "name": "stderr",
     "output_type": "stream",
     "text": [
      "┌ Info: Recompiling stale cache file /Users/anthony/.julia/compiled/v1.1/MultivariateStats/l7I74.ji for MultivariateStats [6f286f6a-111f-5878-ab1e-185364afe411]\n",
      "└ @ Base loading.jl:1184\n"
     ]
    },
    {
     "name": "stdout",
     "output_type": "stream",
     "text": [
      "✔\n",
      "import MLJModels.MultivariateStats_.PCA ✔\n"
     ]
    },
    {
     "name": "stderr",
     "output_type": "stream",
     "text": [
      "┌ Info: Training \u001b[34mMachine{PCA} @ 2…49\u001b[39m.\n",
      "└ @ MLJ /Users/anthony/Dropbox/Julia7/MLJ/MLJ/src/machines.jl:140\n"
     ]
    },
    {
     "data": {
      "text/html": [
       "<table class=\"data-frame\"><thead><tr><th></th><th>x1</th><th>x2</th><th>x3</th></tr><tr><th></th><th>Float64</th><th>Float64</th><th>Float64</th></tr></thead><tbody><p>3 rows × 3 columns</p><tr><th>1</th><td>-3.23067</td><td>1.37417</td><td>0.114548</td></tr><tr><th>2</th><td>-1.9051</td><td>0.0493005</td><td>-0.16218</td></tr><tr><th>3</th><td>2.50695</td><td>0.645069</td><td>0.075318</td></tr></tbody></table>"
      ],
      "text/latex": [
       "\\begin{tabular}{r|ccc}\n",
       "\t& x1 & x2 & x3\\\\\n",
       "\t\\hline\n",
       "\t& Float64 & Float64 & Float64\\\\\n",
       "\t\\hline\n",
       "\t1 & -3.23067 & 1.37417 & 0.114548 \\\\\n",
       "\t2 & -1.9051 & 0.0493005 & -0.16218 \\\\\n",
       "\t3 & 2.50695 & 0.645069 & 0.075318 \\\\\n",
       "\\end{tabular}\n"
      ],
      "text/plain": [
       "3×3 DataFrame\n",
       "│ Row │ x1       │ x2        │ x3       │\n",
       "│     │ \u001b[90mFloat64\u001b[39m  │ \u001b[90mFloat64\u001b[39m   │ \u001b[90mFloat64\u001b[39m  │\n",
       "├─────┼──────────┼───────────┼──────────┤\n",
       "│ 1   │ -3.23067 │ 1.37417   │ 0.114548 │\n",
       "│ 2   │ -1.9051  │ 0.0493005 │ -0.16218 │\n",
       "│ 3   │ 2.50695  │ 0.645069  │ 0.075318 │"
      ]
     },
     "execution_count": 5,
     "metadata": {},
     "output_type": "execute_result"
    }
   ],
   "source": [
    "evaluate!(classifier,\n",
    "          resampling=Holdout(fraction_train=0.8),\n",
    "          measure=misclassification_rate)\n",
    "# ## Adding dimension reduction:\n",
    "@load PCA\n",
    "dim_reducer_ = PCA()\n",
    "dim_reducer = machine(dim_reducer_, X)\n",
    "fit!(dim_reducer)\n",
    "Xsmall = transform(dim_reducer, X);\n",
    "\n",
    "first(Xsmall, 3)"
   ]
  },
  {
   "cell_type": "code",
   "execution_count": 6,
   "metadata": {},
   "outputs": [
    {
     "name": "stdout",
     "output_type": "stream",
     "text": [
      "*\n",
      "optimization finished, #iter = 34\n",
      "nu = 0.041934\n",
      "obj = -2.096171, rho = -0.184206\n",
      "nSV = 9, nBSV = 0\n",
      "*\n",
      "optimization finished, #iter = 54\n",
      "nu = 0.271828\n",
      "obj = -20.154548, rho = -0.053379\n",
      "nSV = 32, nBSV = 24\n",
      "*\n",
      "optimization finished, #iter = 43\n",
      "nu = 0.044759\n",
      "obj = -2.302729, rho = 0.055344\n",
      "nSV = 9, nBSV = 1\n",
      "Total nSV = 42\n"
     ]
    },
    {
     "name": "stderr",
     "output_type": "stream",
     "text": [
      "┌ Info: Training \u001b[34mMachine{SVC} @ 1…43\u001b[39m.\n",
      "└ @ MLJ /Users/anthony/Dropbox/Julia7/MLJ/MLJ/src/machines.jl:140\n"
     ]
    },
    {
     "data": {
      "text/plain": [
       "150-element Array{CategoricalString{UInt8},1}:\n",
       " \"virginica\" \n",
       " \"virginica\" \n",
       " \"setosa\"    \n",
       " \"virginica\" \n",
       " \"versicolor\"\n",
       " \"setosa\"    \n",
       " \"setosa\"    \n",
       " \"virginica\" \n",
       " \"virginica\" \n",
       " \"setosa\"    \n",
       " \"setosa\"    \n",
       " \"versicolor\"\n",
       " \"versicolor\"\n",
       " ⋮           \n",
       " \"virginica\" \n",
       " \"versicolor\"\n",
       " \"virginica\" \n",
       " \"virginica\" \n",
       " \"versicolor\"\n",
       " \"versicolor\"\n",
       " \"versicolor\"\n",
       " \"virginica\" \n",
       " \"virginica\" \n",
       " \"virginica\" \n",
       " \"virginica\" \n",
       " \"versicolor\""
      ]
     },
     "execution_count": 6,
     "metadata": {},
     "output_type": "execute_result"
    }
   ],
   "source": [
    "classifier = machine(classifier_, Xsmall, y)\n",
    "fit!(classifier)\n",
    "ŷ = predict(classifier, Xsmall)"
   ]
  },
  {
   "cell_type": "markdown",
   "metadata": {},
   "source": [
    "## Building a composite model:"
   ]
  },
  {
   "cell_type": "markdown",
   "metadata": {},
   "source": [
    "### Method 1: Compact syntax (but not generalizable):"
   ]
  },
  {
   "cell_type": "code",
   "execution_count": 7,
   "metadata": {},
   "outputs": [
    {
     "ename": "LoadError",
     "evalue": "UndefVarError: @pipeline not defined",
     "output_type": "error",
     "traceback": [
      "UndefVarError: @pipeline not defined",
      ""
     ]
    }
   ],
   "source": [
    "composite = @pipeline dim_reducer_ classifier_ # not implemented at time of talk\n",
    "\n",
    "composite_ = machine(composite, X, y)\n",
    "evaluate!(composite_, measure=misclassification_rate)"
   ]
  },
  {
   "cell_type": "markdown",
   "metadata": {},
   "source": [
    "### Method 2: Just write the math (and test as you build):"
   ]
  },
  {
   "cell_type": "code",
   "execution_count": 8,
   "metadata": {},
   "outputs": [
    {
     "ename": "ErrorException",
     "evalue": "\u001b[34mNodalMachine{PCA} @ 9…70\u001b[39m has not been trained.",
     "output_type": "error",
     "traceback": [
      "\u001b[34mNodalMachine{PCA} @ 9…70\u001b[39m has not been trained.",
      "",
      "Stacktrace:",
      " [1] error(::String) at ./error.jl:33",
      " [2] transform(::NodalMachine{PCA}, ::DataFrame) at /Users/anthony/Dropbox/Julia7/MLJ/MLJ/src/operations.jl:37",
      " [3] #call#11(::UnitRange{Int64}, ::Node{NodalMachine{PCA}}) at /Users/anthony/Dropbox/Julia7/MLJ/MLJ/src/networks.jl:202",
      " [4] iterate at ./none:0 [inlined]",
      " [5] collect(::Base.Generator{Tuple{Node{NodalMachine{PCA}}},getfield(MLJ, Symbol(\"##12#13\")){UnitRange{Int64}}}) at ./array.jl:606",
      " [6] #call#11(::UnitRange{Int64}, ::Node{NodalMachine{SVC}}) at /Users/anthony/Dropbox/Julia7/MLJ/MLJ/src/networks.jl:202",
      " [7] (::getfield(MLJ, Symbol(\"#kw#Node\")))(::NamedTuple{(:rows,),Tuple{UnitRange{Int64}}}, ::Node{NodalMachine{SVC}}) at ./none:0",
      " [8] top-level scope at In[8]:12"
     ]
    }
   ],
   "source": [
    "Xraw = X;\n",
    "yraw = y;\n",
    "\n",
    "X = source(Xraw)\n",
    "y = source(yraw)\n",
    "\n",
    "dim_reducer = machine(dim_reducer_, X)\n",
    "Xsmall = transform(dim_reducer, X)\n",
    "\n",
    "classifier = machine(classifier_, Xsmall, y)\n",
    "ŷ = predict(classifier, Xsmall)\n",
    "\n",
    "ŷ(rows=3:4)\n",
    "\n",
    "fit!(ŷ)\n",
    "\n",
    "ŷ(rows=3:4)"
   ]
  },
  {
   "cell_type": "code",
   "execution_count": 9,
   "metadata": {},
   "outputs": [
    {
     "name": "stderr",
     "output_type": "stream",
     "text": [
      "┌ Info: Training \u001b[34mNodalMachine{PCA} @ 9…70\u001b[39m.\n",
      "└ @ MLJ /Users/anthony/Dropbox/Julia7/MLJ/MLJ/src/machines.jl:140\n",
      "┌ Info: Training \u001b[34mNodalMachine{SVC} @ 1…69\u001b[39m.\n",
      "└ @ MLJ /Users/anthony/Dropbox/Julia7/MLJ/MLJ/src/machines.jl:140\n"
     ]
    },
    {
     "name": "stdout",
     "output_type": "stream",
     "text": [
      "*\n",
      "optimization finished, #iter = 34\n",
      "nu = 0.041934\n",
      "obj = -2.096171, rho = -0.184206\n",
      "nSV = 9, nBSV = 0\n",
      "*\n",
      "optimization finished, #iter = 54\n",
      "nu = 0.271828\n",
      "obj = -20.154548, rho = -0.053379\n",
      "nSV = 32, nBSV = 24\n",
      "*\n",
      "optimization finished, #iter = 43\n",
      "nu = 0.044759\n",
      "obj = -2.302729, rho = 0.055344\n",
      "nSV = 9, nBSV = 1\n",
      "Total nSV = 42\n"
     ]
    },
    {
     "data": {
      "text/plain": [
       "\u001b[34mNode @ 1…12\u001b[39m = predict(\u001b[0m\u001b[1m1…69\u001b[22m, transform(\u001b[0m\u001b[1m9…70\u001b[22m, \u001b[34m5…42\u001b[39m))"
      ]
     },
     "execution_count": 9,
     "metadata": {},
     "output_type": "execute_result"
    }
   ],
   "source": [
    "dim_reducer_.maxoutdim = 10\n",
    "fit!(ŷ)"
   ]
  },
  {
   "cell_type": "code",
   "execution_count": 10,
   "metadata": {},
   "outputs": [
    {
     "data": {
      "text/plain": [
       "2-element Array{CategoricalString{UInt8},1}:\n",
       " \"setosa\"   \n",
       " \"virginica\""
      ]
     },
     "execution_count": 10,
     "metadata": {},
     "output_type": "execute_result"
    }
   ],
   "source": [
    "ŷ(rows=3:4)"
   ]
  },
  {
   "cell_type": "markdown",
   "metadata": {},
   "source": [
    " Changing classifier hyperparameter does not retrigger retraining of\n",
    " upstream dimension reducer:"
   ]
  },
  {
   "cell_type": "code",
   "execution_count": 11,
   "metadata": {},
   "outputs": [
    {
     "name": "stdout",
     "output_type": "stream",
     "text": [
      "*\n",
      "optimization finished, #iter = 33\n",
      "nu = 0.035524\n",
      "obj = -1.854426, rho = -0.114264\n",
      "nSV = 7, nBSV = 1\n",
      "*\n",
      "optimization finished, #iter = 35\n",
      "nu = 0.403719\n",
      "obj = -29.357598, rho = -0.027988\n",
      "nSV = 42, nBSV = 39\n",
      "*\n",
      "optimization finished, #iter = 15\n",
      "nu = 0.066672\n",
      "obj = -3.605309, rho = -0.043427\n",
      "nSV = 9, nBSV = 5\n",
      "Total nSV = 53\n"
     ]
    },
    {
     "name": "stderr",
     "output_type": "stream",
     "text": [
      "┌ Info: Not retraining \u001b[34mNodalMachine{PCA} @ 9…70\u001b[39m.\n",
      "│  It appears up-to-date. Use force=true to force retraining.\n",
      "└ @ MLJ /Users/anthony/Dropbox/Julia7/MLJ/MLJ/src/machines.jl:146\n",
      "┌ Info: Updating \u001b[34mNodalMachine{SVC} @ 1…69\u001b[39m.\n",
      "└ @ MLJ /Users/anthony/Dropbox/Julia7/MLJ/MLJ/src/machines.jl:152\n"
     ]
    },
    {
     "data": {
      "text/plain": [
       "\u001b[34mNode @ 1…12\u001b[39m = predict(\u001b[0m\u001b[1m1…69\u001b[22m, transform(\u001b[0m\u001b[1m9…70\u001b[22m, \u001b[34m5…42\u001b[39m))"
      ]
     },
     "execution_count": 11,
     "metadata": {},
     "output_type": "execute_result"
    }
   ],
   "source": [
    "classifier_.gamma = 0.1\n",
    "fit!(ŷ)"
   ]
  },
  {
   "cell_type": "code",
   "execution_count": 12,
   "metadata": {},
   "outputs": [
    {
     "data": {
      "text/plain": [
       "2-element Array{CategoricalString{UInt8},1}:\n",
       " \"setosa\"   \n",
       " \"virginica\""
      ]
     },
     "execution_count": 12,
     "metadata": {},
     "output_type": "execute_result"
    }
   ],
   "source": [
    "ŷ(rows=3:4)"
   ]
  },
  {
   "cell_type": "markdown",
   "metadata": {},
   "source": [
    "#### Exporting network as stand-alone re-usable model:"
   ]
  },
  {
   "cell_type": "code",
   "execution_count": 13,
   "metadata": {},
   "outputs": [
    {
     "data": {
      "text/plain": [
       "(pca = (maxoutdim = 10,\n",
       "        method = :auto,\n",
       "        pratio = 0.99,\n",
       "        mean = nothing,),\n",
       " svc = (kernel = RadialBasis::KERNEL = 2,\n",
       "        gamma = 0.1,\n",
       "        weights = nothing,\n",
       "        cost = 1.0,\n",
       "        degree = 3,\n",
       "        coef0 = 0.0,\n",
       "        tolerance = 0.001,\n",
       "        shrinking = true,\n",
       "        probability = false,),)"
      ]
     },
     "execution_count": 13,
     "metadata": {},
     "output_type": "execute_result"
    }
   ],
   "source": [
    "composite = @from_network Composite(pca=dim_reducer_, svc=classifier_) <= (X, y, ŷ)\n",
    "params(composite)"
   ]
  },
  {
   "cell_type": "code",
   "execution_count": 14,
   "metadata": {},
   "outputs": [
    {
     "name": "stderr",
     "output_type": "stream",
     "text": [
      "┌ Info: Evaluating using cross-validation. \n",
      "│ nfolds=6. \n",
      "│ shuffle=false \n",
      "│ measure=MLJ.misclassification_rate \n",
      "│ operation=StatsBase.predict \n",
      "│ Resampling from all rows. \n",
      "└ @ MLJ /Users/anthony/Dropbox/Julia7/MLJ/MLJ/src/resampling.jl:151\n",
      "\u001b[33mCross-validating: 100%[=========================] Time: 0:00:02\u001b[39m\n"
     ]
    },
    {
     "data": {
      "text/plain": [
       "6-element Array{Float64,1}:\n",
       " 0.0 \n",
       " 0.0 \n",
       " 0.04\n",
       " 0.0 \n",
       " 0.08\n",
       " 0.12"
      ]
     },
     "execution_count": 14,
     "metadata": {},
     "output_type": "execute_result"
    }
   ],
   "source": [
    "composite_ = machine(composite, Xraw, yraw)\n",
    "evaluate!(composite_, measure=misclassification_rate)"
   ]
  },
  {
   "cell_type": "markdown",
   "metadata": {},
   "source": [
    "*This notebook was generated using [Literate.jl](https://github.com/fredrikekre/Literate.jl).*"
   ]
  }
 ],
 "metadata": {
  "kernelspec": {
   "display_name": "Julia 1.1.0",
   "language": "julia",
   "name": "julia-1.1"
  },
  "language_info": {
   "file_extension": ".jl",
   "mimetype": "application/julia",
   "name": "julia",
   "version": "1.1.1"
  }
 },
 "nbformat": 4,
 "nbformat_minor": 3
}
